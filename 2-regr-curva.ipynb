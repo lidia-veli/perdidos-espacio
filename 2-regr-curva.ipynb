{
 "cells": [
  {
   "attachments": {},
   "cell_type": "markdown",
   "metadata": {},
   "source": [
    "Realizamos el mismo procedimiento, pero ahora en lugar de partir de una recta, partimos de una curva, que será más prescisa que la recta al representar el fenómeno físico que estamos estudiando."
   ]
  },
  {
   "cell_type": "code",
   "execution_count": 20,
   "metadata": {},
   "outputs": [
    {
     "name": "stdout",
     "output_type": "stream",
     "text": [
      "Done\n"
     ]
    }
   ],
   "source": [
    "# Importaciones necesarias\n",
    "import random\n",
    "import numpy as np\n",
    "import pandas as pd\n",
    "import matplotlib.pyplot as plt\n",
    "from faker import Faker\n",
    "\n",
    "# Inicializamos Faker\n",
    "faker = Faker()\n",
    "\n",
    "print('Done')"
   ]
  },
  {
   "cell_type": "markdown",
   "metadata": {},
   "source": [
    "## Crear el dataset"
   ]
  },
  {
   "attachments": {},
   "cell_type": "markdown",
   "metadata": {},
   "source": [
    "Con los datos proporcionados\n",
    "- h = 1.00, t = 0.46 s\n",
    "- h = 2.00, t = 0.66 s  \n",
    "  \n",
    "vamos a crear una curva (parábola), que usaremos como curva de regresión, a partir de la cual vamos a generar datos aleatorios que simulen los datos que se obtendrían en el experimento de caída libre.  \n",
    "  \n",
    "La variable independiente será la altura ($h$) y la variable dependiente será el tiempo ($t$)."
   ]
  },
  {
   "cell_type": "code",
   "execution_count": 21,
   "metadata": {},
   "outputs": [
    {
     "name": "stdout",
     "output_type": "stream",
     "text": [
      "La ecuación de la parabola es: y = -0.13x^2 + 0.59x + 0.0\n"
     ]
    }
   ],
   "source": [
    "def ec_parabola(p1, p2, p3):\n",
    "    x1, y1 = p1\n",
    "    x2, y2 = p2\n",
    "    x3, y3 = p3\n",
    "    a = ((y3-y1)/(x3-x1) - (y2-y1)/(x2-x1)) /(x3-x2)\n",
    "    b = (y2-y1)/(x2-x1) - a*(x2+x1)\n",
    "    c = y1 - a*x1**2 - b*x1\n",
    "    return a, b, c\n",
    "\n",
    "# la curva pasa por el (0,0) porque a altura 0, el tiempo es 0\n",
    "parab = ec_parabola((0,0), (1.00, 0.46), (2.00, 0.66))\n",
    "print(f\"La ecuación de la parabola es: y = {round(parab[0], 2)}x^2 + {round(parab[1], 2)}x + {round(parab[2], 2)}\")"
   ]
  },
  {
   "cell_type": "code",
   "execution_count": 22,
   "metadata": {},
   "outputs": [
    {
     "data": {
      "image/png": "[encoded data removed]",
      "text/plain": [
       "<Figure size 640x480 with 1 Axes>"
      ]
     },
     "metadata": {},
     "output_type": "display_data"
    }
   ],
   "source": [
    "# curva de regresión calculada\n",
    "def curva(x):\n",
    "    return -0.13*x**2 + 0.59*x\n",
    "\n",
    "x = np.linspace(1, 2, 100) # altura\n",
    "y = curva(x) # tiempo\n",
    "plt.plot(x, y, color='magenta', label='Recta de regresión')\n",
    "\n",
    "plt.xlabel('Altura')\n",
    "plt.ylabel('Tiempo')\n",
    "plt.ylim(0, 2)  # para reducir la escala de la gráfica\n",
    "plt.show()"
   ]
  },
  {
   "attachments": {},
   "cell_type": "markdown",
   "metadata": {},
   "source": [
    "Generamos 100 datos aleatorios para cada variable, con una distribución normal, con una media y desviación típica de tal forma que se ajusten a la curva de regresión que hemos creado."
   ]
  },
  {
   "cell_type": "code",
   "execution_count": 23,
   "metadata": {},
   "outputs": [
    {
     "data": {
      "text/html": [
       "<div>\n",
       "<style scoped>\n",
       "    .dataframe tbody tr th:only-of-type {\n",
       "        vertical-align: middle;\n",
       "    }\n",
       "\n",
       "    .dataframe tbody tr th {\n",
       "        vertical-align: top;\n",
       "    }\n",
       "\n",
       "    .dataframe thead th {\n",
       "        text-align: right;\n",
       "    }\n",
       "</style>\n",
       "<table border=\"1\" class=\"dataframe\">\n",
       "  <thead>\n",
       "    <tr style=\"text-align: right;\">\n",
       "      <th></th>\n",
       "      <th>Altura</th>\n",
       "      <th>Tiempo</th>\n",
       "    </tr>\n",
       "  </thead>\n",
       "  <tbody>\n",
       "    <tr>\n",
       "      <th>0</th>\n",
       "      <td>1.937653</td>\n",
       "      <td>0.546995</td>\n",
       "    </tr>\n",
       "    <tr>\n",
       "      <th>1</th>\n",
       "      <td>1.617921</td>\n",
       "      <td>0.542255</td>\n",
       "    </tr>\n",
       "    <tr>\n",
       "      <th>2</th>\n",
       "      <td>1.416238</td>\n",
       "      <td>0.544638</td>\n",
       "    </tr>\n",
       "    <tr>\n",
       "      <th>3</th>\n",
       "      <td>1.026808</td>\n",
       "      <td>0.497959</td>\n",
       "    </tr>\n",
       "    <tr>\n",
       "      <th>4</th>\n",
       "      <td>1.237482</td>\n",
       "      <td>0.525144</td>\n",
       "    </tr>\n",
       "    <tr>\n",
       "      <th>...</th>\n",
       "      <td>...</td>\n",
       "      <td>...</td>\n",
       "    </tr>\n",
       "    <tr>\n",
       "      <th>95</th>\n",
       "      <td>1.065030</td>\n",
       "      <td>0.473590</td>\n",
       "    </tr>\n",
       "    <tr>\n",
       "      <th>96</th>\n",
       "      <td>1.775028</td>\n",
       "      <td>0.641161</td>\n",
       "    </tr>\n",
       "    <tr>\n",
       "      <th>97</th>\n",
       "      <td>1.213388</td>\n",
       "      <td>0.498200</td>\n",
       "    </tr>\n",
       "    <tr>\n",
       "      <th>98</th>\n",
       "      <td>1.709621</td>\n",
       "      <td>0.529318</td>\n",
       "    </tr>\n",
       "    <tr>\n",
       "      <th>99</th>\n",
       "      <td>1.473683</td>\n",
       "      <td>0.675076</td>\n",
       "    </tr>\n",
       "  </tbody>\n",
       "</table>\n",
       "<p>100 rows × 2 columns</p>\n",
       "</div>"
      ],
      "text/plain": [
       "      Altura    Tiempo\n",
       "0   1.937653  0.546995\n",
       "1   1.617921  0.542255\n",
       "2   1.416238  0.544638\n",
       "3   1.026808  0.497959\n",
       "4   1.237482  0.525144\n",
       "..       ...       ...\n",
       "95  1.065030  0.473590\n",
       "96  1.775028  0.641161\n",
       "97  1.213388  0.498200\n",
       "98  1.709621  0.529318\n",
       "99  1.473683  0.675076\n",
       "\n",
       "[100 rows x 2 columns]"
      ]
     },
     "execution_count": 23,
     "metadata": {},
     "output_type": "execute_result"
    }
   ],
   "source": [
    "# Datos aleatorios de la Tiempo\n",
    "x_values = [faker.random.uniform(1, 2) for _ in range(100)]\n",
    "\n",
    "# Usando la curva de regresion, calculamos los valores del Altura\n",
    "y_values = [curva(v) for v in x_values]\n",
    "\n",
    "#y les añadimos \"ruido\", para que diverjan un poco de la recta\n",
    "y_values = [y + random.gauss(0, 0.05) for y in y_values]\n",
    "                                # desviacion: cuando más cerca de 0 esté el valor, más se aproximan los puntos a la recta\n",
    "\n",
    "\n",
    "# Creamos el DataFrame\n",
    "datos = pd.DataFrame({'Altura': x_values,'Tiempo': y_values})\n",
    "datos.head(100)"
   ]
  },
  {
   "cell_type": "code",
   "execution_count": 24,
   "metadata": {},
   "outputs": [
    {
     "data": {
      "image/png": "[encoded data removed]",
      "text/plain": [
       "<Figure size 640x480 with 1 Axes>"
      ]
     },
     "metadata": {},
     "output_type": "display_data"
    }
   ],
   "source": [
    "# Graficamos nuestra curva (que hemos usado para generar los datos)\n",
    "plt.plot(x, y, color='magenta', label='Recta', linewidth=2) # nuestra recta\n",
    "\n",
    "# Graficamos los datos\n",
    "plt.scatter(x_values, y_values)  # graficar los datos\n",
    "# y su recta de regresion \n",
    "m, b = np.polyfit(x_values, y_values, 1)\n",
    "plt.plot(x_values, m*np.array(x_values) + b, color='cyan', label='Recta de regresión')\n",
    "\n",
    "# Nombrar los ejes\n",
    "plt.xlabel('Tiempo')\n",
    "plt.ylabel('Altura')\n",
    "plt.ylim(0, 2)\n",
    "plt.show()"
   ]
  },
  {
   "cell_type": "markdown",
   "metadata": {},
   "source": [
    "## Calcular la aceleración de la gravedad\n",
    "Obtenemos ahora, usando la fórmula física, la aceleración de la gravedad ($g$) para cada uno de los datos generados."
   ]
  },
  {
   "cell_type": "code",
   "execution_count": 25,
   "metadata": {},
   "outputs": [
    {
     "data": {
      "text/html": [
       "<div>\n",
       "<style scoped>\n",
       "    .dataframe tbody tr th:only-of-type {\n",
       "        vertical-align: middle;\n",
       "    }\n",
       "\n",
       "    .dataframe tbody tr th {\n",
       "        vertical-align: top;\n",
       "    }\n",
       "\n",
       "    .dataframe thead th {\n",
       "        text-align: right;\n",
       "    }\n",
       "</style>\n",
       "<table border=\"1\" class=\"dataframe\">\n",
       "  <thead>\n",
       "    <tr style=\"text-align: right;\">\n",
       "      <th></th>\n",
       "      <th>Altura</th>\n",
       "      <th>Tiempo</th>\n",
       "      <th>g_calculada</th>\n",
       "    </tr>\n",
       "  </thead>\n",
       "  <tbody>\n",
       "    <tr>\n",
       "      <th>0</th>\n",
       "      <td>1.937653</td>\n",
       "      <td>0.546995</td>\n",
       "      <td>12.952095</td>\n",
       "    </tr>\n",
       "    <tr>\n",
       "      <th>1</th>\n",
       "      <td>1.617921</td>\n",
       "      <td>0.542255</td>\n",
       "      <td>11.004737</td>\n",
       "    </tr>\n",
       "    <tr>\n",
       "      <th>2</th>\n",
       "      <td>1.416238</td>\n",
       "      <td>0.544638</td>\n",
       "      <td>9.548835</td>\n",
       "    </tr>\n",
       "    <tr>\n",
       "      <th>3</th>\n",
       "      <td>1.026808</td>\n",
       "      <td>0.497959</td>\n",
       "      <td>8.281954</td>\n",
       "    </tr>\n",
       "    <tr>\n",
       "      <th>4</th>\n",
       "      <td>1.237482</td>\n",
       "      <td>0.525144</td>\n",
       "      <td>8.974551</td>\n",
       "    </tr>\n",
       "    <tr>\n",
       "      <th>...</th>\n",
       "      <td>...</td>\n",
       "      <td>...</td>\n",
       "      <td>...</td>\n",
       "    </tr>\n",
       "    <tr>\n",
       "      <th>95</th>\n",
       "      <td>1.065030</td>\n",
       "      <td>0.473590</td>\n",
       "      <td>9.496989</td>\n",
       "    </tr>\n",
       "    <tr>\n",
       "      <th>96</th>\n",
       "      <td>1.775028</td>\n",
       "      <td>0.641161</td>\n",
       "      <td>8.635759</td>\n",
       "    </tr>\n",
       "    <tr>\n",
       "      <th>97</th>\n",
       "      <td>1.213388</td>\n",
       "      <td>0.498200</td>\n",
       "      <td>9.777384</td>\n",
       "    </tr>\n",
       "    <tr>\n",
       "      <th>98</th>\n",
       "      <td>1.709621</td>\n",
       "      <td>0.529318</td>\n",
       "      <td>12.203835</td>\n",
       "    </tr>\n",
       "    <tr>\n",
       "      <th>99</th>\n",
       "      <td>1.473683</td>\n",
       "      <td>0.675076</td>\n",
       "      <td>6.467391</td>\n",
       "    </tr>\n",
       "  </tbody>\n",
       "</table>\n",
       "<p>100 rows × 3 columns</p>\n",
       "</div>"
      ],
      "text/plain": [
       "      Altura    Tiempo  g_calculada\n",
       "0   1.937653  0.546995    12.952095\n",
       "1   1.617921  0.542255    11.004737\n",
       "2   1.416238  0.544638     9.548835\n",
       "3   1.026808  0.497959     8.281954\n",
       "4   1.237482  0.525144     8.974551\n",
       "..       ...       ...          ...\n",
       "95  1.065030  0.473590     9.496989\n",
       "96  1.775028  0.641161     8.635759\n",
       "97  1.213388  0.498200     9.777384\n",
       "98  1.709621  0.529318    12.203835\n",
       "99  1.473683  0.675076     6.467391\n",
       "\n",
       "[100 rows x 3 columns]"
      ]
     },
     "execution_count": 25,
     "metadata": {},
     "output_type": "execute_result"
    }
   ],
   "source": [
    "def calcular_gravedad(h, t):\n",
    "    '''Funcion que calcula la gravedad, conocidos la altura y el tiempo de caida'''\n",
    "    return (2*h) / (t**2)\n",
    "\n",
    "# AÑADIMOS LA GRAVEDAD CLACULADA AL DATAFRAME\n",
    "datos_g = datos.copy()  # hacemos una copia del dataframe\n",
    "g_calculada=[]  # columna que vamos a añadir al dataframe\n",
    "\n",
    "for i in range(100):\n",
    "    g_calculada.append(calcular_gravedad(datos.Altura[i], datos.Tiempo[i]))  # añadimos la gravedad calculada a la lista g_calculado\n",
    "\n",
    "# añadimos la nueva columna\n",
    "datos_g['g_calculada'] = g_calculada\n",
    "datos_g.head(100)"
   ]
  },
  {
   "cell_type": "markdown",
   "metadata": {},
   "source": [
    "## Predecir el planeta"
   ]
  },
  {
   "cell_type": "code",
   "execution_count": 26,
   "metadata": {},
   "outputs": [],
   "source": [
    "# Creamos un diccionario con los planetas y sus respectivas gravedades\n",
    "gravedad_planetas = { 'Tierra': 9.8, 'Marte': 3.7, 'Júpiter': 24.8, 'Saturno': 9.0, 'Urano': 8.7, 'Neptuno': 11.0}\n",
    "\n",
    "def posible_planeta(g_calc):\n",
    "    ''''Funcion que te dice, según la gravedad que le pases, en qué planeta estás'''\n",
    "    planetas = {} # creamos un diccionario dif:planeta\n",
    "    for g in gravedad_planetas.values():  # para cada gravedad de los planetas\n",
    "        dif = abs(g_calc - g)  # la diferencia entre g_calc y la gravedad real del planeta\n",
    "        #  asociamos a cada diferencia el planeta correspondiente\n",
    "        planetas[dif] = list(gravedad_planetas.keys())[list(gravedad_planetas.values()).index(g)]\n",
    "\n",
    "     # nos devuelve el planeta con la menor diferencia del calculo de gravedad\n",
    "    return planetas[min(planetas.keys())] \n"
   ]
  },
  {
   "cell_type": "code",
   "execution_count": 27,
   "metadata": {},
   "outputs": [
    {
     "data": {
      "text/html": [
       "<div>\n",
       "<style scoped>\n",
       "    .dataframe tbody tr th:only-of-type {\n",
       "        vertical-align: middle;\n",
       "    }\n",
       "\n",
       "    .dataframe tbody tr th {\n",
       "        vertical-align: top;\n",
       "    }\n",
       "\n",
       "    .dataframe thead th {\n",
       "        text-align: right;\n",
       "    }\n",
       "</style>\n",
       "<table border=\"1\" class=\"dataframe\">\n",
       "  <thead>\n",
       "    <tr style=\"text-align: right;\">\n",
       "      <th></th>\n",
       "      <th>Altura</th>\n",
       "      <th>Tiempo</th>\n",
       "      <th>g_calculada</th>\n",
       "    </tr>\n",
       "  </thead>\n",
       "  <tbody>\n",
       "    <tr>\n",
       "      <th>count</th>\n",
       "      <td>100.000000</td>\n",
       "      <td>100.000000</td>\n",
       "      <td>100.000000</td>\n",
       "    </tr>\n",
       "    <tr>\n",
       "      <th>mean</th>\n",
       "      <td>1.490336</td>\n",
       "      <td>0.578922</td>\n",
       "      <td>8.976440</td>\n",
       "    </tr>\n",
       "    <tr>\n",
       "      <th>std</th>\n",
       "      <td>0.281601</td>\n",
       "      <td>0.072243</td>\n",
       "      <td>1.434032</td>\n",
       "    </tr>\n",
       "    <tr>\n",
       "      <th>min</th>\n",
       "      <td>1.006268</td>\n",
       "      <td>0.426523</td>\n",
       "      <td>6.467391</td>\n",
       "    </tr>\n",
       "    <tr>\n",
       "      <th>25%</th>\n",
       "      <td>1.214398</td>\n",
       "      <td>0.523997</td>\n",
       "      <td>8.094945</td>\n",
       "    </tr>\n",
       "    <tr>\n",
       "      <th>50%</th>\n",
       "      <td>1.518475</td>\n",
       "      <td>0.575267</td>\n",
       "      <td>8.770047</td>\n",
       "    </tr>\n",
       "    <tr>\n",
       "      <th>75%</th>\n",
       "      <td>1.712341</td>\n",
       "      <td>0.641151</td>\n",
       "      <td>9.662992</td>\n",
       "    </tr>\n",
       "    <tr>\n",
       "      <th>max</th>\n",
       "      <td>1.989398</td>\n",
       "      <td>0.737523</td>\n",
       "      <td>14.187832</td>\n",
       "    </tr>\n",
       "  </tbody>\n",
       "</table>\n",
       "</div>"
      ],
      "text/plain": [
       "           Altura      Tiempo  g_calculada\n",
       "count  100.000000  100.000000   100.000000\n",
       "mean     1.490336    0.578922     8.976440\n",
       "std      0.281601    0.072243     1.434032\n",
       "min      1.006268    0.426523     6.467391\n",
       "25%      1.214398    0.523997     8.094945\n",
       "50%      1.518475    0.575267     8.770047\n",
       "75%      1.712341    0.641151     9.662992\n",
       "max      1.989398    0.737523    14.187832"
      ]
     },
     "execution_count": 27,
     "metadata": {},
     "output_type": "execute_result"
    }
   ],
   "source": [
    "datos_g.describe()"
   ]
  },
  {
   "cell_type": "code",
   "execution_count": 28,
   "metadata": {},
   "outputs": [
    {
     "name": "stdout",
     "output_type": "stream",
     "text": [
      "La gravedad media de los datos es: 8.98, por lo que los astronaturas se encuentran cerca de Saturno.\n"
     ]
    }
   ],
   "source": [
    "g_media = round(datos_g.g_calculada.mean(), 2)\n",
    "print(f'La gravedad media de los datos es: {g_media}, por lo que los astronaturas se encuentran cerca de {posible_planeta(g_media)}.')"
   ]
  }
 ],
 "metadata": {
  "kernelspec": {
   "display_name": "my-env",
   "language": "python",
   "name": "python3"
  },
  "language_info": {
   "codemirror_mode": {
    "name": "ipython",
    "version": 3
   },
   "file_extension": ".py",
   "mimetype": "text/x-python",
   "name": "python",
   "nbconvert_exporter": "python",
   "pygments_lexer": "ipython3",
   "version": "3.11.3"
  },
  "orig_nbformat": 4
 },
 "nbformat": 4,
 "nbformat_minor": 2
}
