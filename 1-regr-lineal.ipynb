{
 "cells": [
  {
   "attachments": {},
   "cell_type": "markdown",
   "metadata": {},
   "source": [
    "# Enunciado\n",
    "\n",
    "Los tripulantes de una nave espacial se han perdido en esl espacio. Para saber dónde se encuentran, a la tripulación se le ocurre determinar experimentalmente el valor de la aceleración de la gravedad ($g$), y comparar los resultados con las gravedades conocidas de los planetas del Sistema Solar. \n",
    "\n",
    "![Gravedad Planetas Sistema Solar](\\data\\gravedades-sist-solar.png)\n",
    "\n",
    "Para calcularla, realizan un experimento de caída libre, que consiste en lo siguiente: dejar caer un pequeño objeto con velocidad inicial nula desde una altura determinada ($h$) y cronometrar el tiempo que tarda en recorrerla ($t$).  \n",
    "La aceleración de la gravedad se calcula con la fórmula: $h = \\frac{1}{2} g t^2$.  \n",
    "  \n",
    "- Con una altura $h = 1.00 m$ cronometran $t = 0.46 s$\n",
    "- Con una altura $h = 2.00 m$ cronometran $t = 0.66 s$\n",
    "  \n",
    "***¿En qué planeta se encuentran?*** "
   ]
  },
  {
   "attachments": {},
   "cell_type": "markdown",
   "metadata": {},
   "source": [
    "# Planteamiento\n",
    "No tenemos información suficiente como para poder determinar con certeza en qué planeta se encuentran. Por lo tanto, lo primero que haremos, será simular una base de datos de alturas y tiempos del experimento de caída libre realizado por los astronautas. De esta forma, tendremos datos suficientes como para poder realizar un análisis de los mismos y poder determinar en qué planeta se encuentran."
   ]
  },
  {
   "attachments": {},
   "cell_type": "markdown",
   "metadata": {},
   "source": [
    "# Resolución"
   ]
  },
  {
   "attachments": {},
   "cell_type": "markdown",
   "metadata": {},
   "source": [
    "## Importaciones"
   ]
  },
  {
   "cell_type": "code",
   "execution_count": 2,
   "metadata": {},
   "outputs": [
    {
     "name": "stdout",
     "output_type": "stream",
     "text": [
      "Done\n"
     ]
    }
   ],
   "source": [
    "# Importaciones necesarias\n",
    "import random\n",
    "import numpy as np\n",
    "import pandas as pd\n",
    "import matplotlib.pyplot as plt\n",
    "from faker import Faker\n",
    "\n",
    "# Inicializamos Faker\n",
    "faker = Faker()\n",
    "\n",
    "print('Done')"
   ]
  },
  {
   "attachments": {},
   "cell_type": "markdown",
   "metadata": {},
   "source": [
    "## Crear el dataset"
   ]
  },
  {
   "attachments": {},
   "cell_type": "markdown",
   "metadata": {},
   "source": [
    "Con los datos proporcionados\n",
    "- h = 1.00, t = 0.46 s\n",
    "- h = 2.00, t = 0.66 s  \n",
    "  \n",
    "vamos a crear una recta, que usaremos como recta de regresión, a partir de la cual vamos a generar datos aleatorios que simulen los datos que se obtendrían en el experimento de caída libre.  \n",
    "  \n",
    "La variable independiente será la altura ($h$) y la variable dependiente será el tiempo ($t$)."
   ]
  },
  {
   "cell_type": "code",
   "execution_count": 3,
   "metadata": {},
   "outputs": [
    {
     "name": "stdout",
     "output_type": "stream",
     "text": [
      "La ecuación de la recta es: y = 0.2x + 0.26\n"
     ]
    }
   ],
   "source": [
    "def ec_recta(p1, p2):\n",
    "    x1, y1 = p1\n",
    "    x2, y2 = p2\n",
    "    m = (y2 - y1) / (x2 - x1)\n",
    "    b = y1 - m*x1\n",
    "    return m, b\n",
    "\n",
    "r = ec_recta( (1.00, 0.46), (2.00, 0.66))\n",
    "print(f\"La ecuación de la recta es: y = {round(r[0], 2)}x + {round(r[1], 2)}\")"
   ]
  },
  {
   "cell_type": "code",
   "execution_count": 4,
   "metadata": {},
   "outputs": [
    {
     "data": {
      "image/png": "[encoded data removed]",
      "text/plain": [
       "<Figure size 640x480 with 1 Axes>"
      ]
     },
     "metadata": {},
     "output_type": "display_data"
    }
   ],
   "source": [
    "# Recta de regresión\n",
    "def recta(x):\n",
    "    return 0.2*x + 0.26\n",
    "\n",
    "x = np.linspace(1, 2, 100)\n",
    "y = recta(x)\n",
    "plt.plot(x, y, color='magenta', label='Recta de regresión')\n",
    "\n",
    "plt.xlabel('Altura (m)')\n",
    "plt.ylabel('Tiempo (s)')\n",
    "plt.ylim(0, 1.5)  # para reducir la escala de la gráfica\n",
    "plt.show()"
   ]
  },
  {
   "attachments": {},
   "cell_type": "markdown",
   "metadata": {},
   "source": [
    "Generamos 100 datos aleatorios para cada variable, con una distribución normal, con una media y desviación típica de tal forma que se ajusten a la recta de regresión que hemos creado."
   ]
  },
  {
   "cell_type": "code",
   "execution_count": 5,
   "metadata": {},
   "outputs": [
    {
     "data": {
      "text/html": [
       "<div>\n",
       "<style scoped>\n",
       "    .dataframe tbody tr th:only-of-type {\n",
       "        vertical-align: middle;\n",
       "    }\n",
       "\n",
       "    .dataframe tbody tr th {\n",
       "        vertical-align: top;\n",
       "    }\n",
       "\n",
       "    .dataframe thead th {\n",
       "        text-align: right;\n",
       "    }\n",
       "</style>\n",
       "<table border=\"1\" class=\"dataframe\">\n",
       "  <thead>\n",
       "    <tr style=\"text-align: right;\">\n",
       "      <th></th>\n",
       "      <th>Altura</th>\n",
       "      <th>Tiempo</th>\n",
       "    </tr>\n",
       "  </thead>\n",
       "  <tbody>\n",
       "    <tr>\n",
       "      <th>0</th>\n",
       "      <td>1.725311</td>\n",
       "      <td>0.584943</td>\n",
       "    </tr>\n",
       "    <tr>\n",
       "      <th>1</th>\n",
       "      <td>1.079406</td>\n",
       "      <td>0.498412</td>\n",
       "    </tr>\n",
       "    <tr>\n",
       "      <th>2</th>\n",
       "      <td>1.703990</td>\n",
       "      <td>0.550372</td>\n",
       "    </tr>\n",
       "    <tr>\n",
       "      <th>3</th>\n",
       "      <td>1.656439</td>\n",
       "      <td>0.581140</td>\n",
       "    </tr>\n",
       "    <tr>\n",
       "      <th>4</th>\n",
       "      <td>1.895295</td>\n",
       "      <td>0.663334</td>\n",
       "    </tr>\n",
       "    <tr>\n",
       "      <th>...</th>\n",
       "      <td>...</td>\n",
       "      <td>...</td>\n",
       "    </tr>\n",
       "    <tr>\n",
       "      <th>95</th>\n",
       "      <td>1.174903</td>\n",
       "      <td>0.465848</td>\n",
       "    </tr>\n",
       "    <tr>\n",
       "      <th>96</th>\n",
       "      <td>1.031363</td>\n",
       "      <td>0.468681</td>\n",
       "    </tr>\n",
       "    <tr>\n",
       "      <th>97</th>\n",
       "      <td>1.312204</td>\n",
       "      <td>0.517209</td>\n",
       "    </tr>\n",
       "    <tr>\n",
       "      <th>98</th>\n",
       "      <td>1.150314</td>\n",
       "      <td>0.478406</td>\n",
       "    </tr>\n",
       "    <tr>\n",
       "      <th>99</th>\n",
       "      <td>1.217815</td>\n",
       "      <td>0.489120</td>\n",
       "    </tr>\n",
       "  </tbody>\n",
       "</table>\n",
       "<p>100 rows × 2 columns</p>\n",
       "</div>"
      ],
      "text/plain": [
       "      Altura    Tiempo\n",
       "0   1.725311  0.584943\n",
       "1   1.079406  0.498412\n",
       "2   1.703990  0.550372\n",
       "3   1.656439  0.581140\n",
       "4   1.895295  0.663334\n",
       "..       ...       ...\n",
       "95  1.174903  0.465848\n",
       "96  1.031363  0.468681\n",
       "97  1.312204  0.517209\n",
       "98  1.150314  0.478406\n",
       "99  1.217815  0.489120\n",
       "\n",
       "[100 rows x 2 columns]"
      ]
     },
     "execution_count": 5,
     "metadata": {},
     "output_type": "execute_result"
    }
   ],
   "source": [
    "# Datos aleatorios de la Altura\n",
    "x_values = [faker.random.uniform(1.00, 2.00) for _ in range(100)]\n",
    "\n",
    "# Usando la recta de regresion, calculamos los valores del Tiempo\n",
    "y_values = [recta(v) for v in x_values]\n",
    "\n",
    "#y les añadimos \"ruido\", para que diverjan un poco de la recta\n",
    "y_values = [y + random.gauss(0, 0.02) for y in y_values]\n",
    "                                # desviacion: cuando más cerca de 0 esté el valor, más se aproximan los puntos a la recta\n",
    "\n",
    "\n",
    "# Creamos el DataFrame\n",
    "datos = pd.DataFrame({'Altura': x_values,'Tiempo': y_values})\n",
    "datos.head(100)"
   ]
  },
  {
   "cell_type": "code",
   "execution_count": 6,
   "metadata": {},
   "outputs": [
    {
     "data": {
      "image/png": "[encoded data removed]",
      "text/plain": [
       "<Figure size 640x480 with 1 Axes>"
      ]
     },
     "metadata": {},
     "output_type": "display_data"
    }
   ],
   "source": [
    "# Graficamos nuestra recta (que hemos usado para generar los datos)\n",
    "plt.plot(x, y, color='magenta', label='Recta', linewidth=2) # nuestra recta\n",
    "\n",
    "# Graficamos los datos\n",
    "plt.scatter(x_values, y_values)  # graficar los datos\n",
    "# y su recta de regresion  (que será muy parecida a la que hemos usado para generarlos) \n",
    "m, b = np.polyfit(x_values, y_values, 1)\n",
    "plt.plot(x_values, m*np.array(x_values) + b, color='cyan', label='Recta de regresión')\n",
    "\n",
    "# Nombrar los ejes\n",
    "plt.xlabel('Altura (m)')\n",
    "plt.ylabel('Tiempo (s)')\n",
    "plt.ylim(0, 1.5)\n",
    "plt.show()"
   ]
  },
  {
   "attachments": {},
   "cell_type": "markdown",
   "metadata": {},
   "source": [
    "## Calcular la aceleración de la gravedad\n",
    "Obtenemos ahora, usando la fórmula física, la aceleración de la gravedad ($g$) para cada uno de los datos generados."
   ]
  },
  {
   "cell_type": "code",
   "execution_count": 7,
   "metadata": {},
   "outputs": [
    {
     "data": {
      "text/html": [
       "<div>\n",
       "<style scoped>\n",
       "    .dataframe tbody tr th:only-of-type {\n",
       "        vertical-align: middle;\n",
       "    }\n",
       "\n",
       "    .dataframe tbody tr th {\n",
       "        vertical-align: top;\n",
       "    }\n",
       "\n",
       "    .dataframe thead th {\n",
       "        text-align: right;\n",
       "    }\n",
       "</style>\n",
       "<table border=\"1\" class=\"dataframe\">\n",
       "  <thead>\n",
       "    <tr style=\"text-align: right;\">\n",
       "      <th></th>\n",
       "      <th>Altura</th>\n",
       "      <th>Tiempo</th>\n",
       "      <th>g_calculada</th>\n",
       "    </tr>\n",
       "  </thead>\n",
       "  <tbody>\n",
       "    <tr>\n",
       "      <th>0</th>\n",
       "      <td>1.725311</td>\n",
       "      <td>0.584943</td>\n",
       "      <td>10.084862</td>\n",
       "    </tr>\n",
       "    <tr>\n",
       "      <th>1</th>\n",
       "      <td>1.079406</td>\n",
       "      <td>0.498412</td>\n",
       "      <td>8.690379</td>\n",
       "    </tr>\n",
       "    <tr>\n",
       "      <th>2</th>\n",
       "      <td>1.703990</td>\n",
       "      <td>0.550372</td>\n",
       "      <td>11.250816</td>\n",
       "    </tr>\n",
       "    <tr>\n",
       "      <th>3</th>\n",
       "      <td>1.656439</td>\n",
       "      <td>0.581140</td>\n",
       "      <td>9.809441</td>\n",
       "    </tr>\n",
       "    <tr>\n",
       "      <th>4</th>\n",
       "      <td>1.895295</td>\n",
       "      <td>0.663334</td>\n",
       "      <td>8.614755</td>\n",
       "    </tr>\n",
       "    <tr>\n",
       "      <th>...</th>\n",
       "      <td>...</td>\n",
       "      <td>...</td>\n",
       "      <td>...</td>\n",
       "    </tr>\n",
       "    <tr>\n",
       "      <th>95</th>\n",
       "      <td>1.174903</td>\n",
       "      <td>0.465848</td>\n",
       "      <td>10.827885</td>\n",
       "    </tr>\n",
       "    <tr>\n",
       "      <th>96</th>\n",
       "      <td>1.031363</td>\n",
       "      <td>0.468681</td>\n",
       "      <td>9.390473</td>\n",
       "    </tr>\n",
       "    <tr>\n",
       "      <th>97</th>\n",
       "      <td>1.312204</td>\n",
       "      <td>0.517209</td>\n",
       "      <td>9.810671</td>\n",
       "    </tr>\n",
       "    <tr>\n",
       "      <th>98</th>\n",
       "      <td>1.150314</td>\n",
       "      <td>0.478406</td>\n",
       "      <td>10.051999</td>\n",
       "    </tr>\n",
       "    <tr>\n",
       "      <th>99</th>\n",
       "      <td>1.217815</td>\n",
       "      <td>0.489120</td>\n",
       "      <td>10.180753</td>\n",
       "    </tr>\n",
       "  </tbody>\n",
       "</table>\n",
       "<p>100 rows × 3 columns</p>\n",
       "</div>"
      ],
      "text/plain": [
       "      Altura    Tiempo  g_calculada\n",
       "0   1.725311  0.584943    10.084862\n",
       "1   1.079406  0.498412     8.690379\n",
       "2   1.703990  0.550372    11.250816\n",
       "3   1.656439  0.581140     9.809441\n",
       "4   1.895295  0.663334     8.614755\n",
       "..       ...       ...          ...\n",
       "95  1.174903  0.465848    10.827885\n",
       "96  1.031363  0.468681     9.390473\n",
       "97  1.312204  0.517209     9.810671\n",
       "98  1.150314  0.478406    10.051999\n",
       "99  1.217815  0.489120    10.180753\n",
       "\n",
       "[100 rows x 3 columns]"
      ]
     },
     "execution_count": 7,
     "metadata": {},
     "output_type": "execute_result"
    }
   ],
   "source": [
    "def calcular_gravedad(h, t):\n",
    "    '''Funcion que calcula la gravedad, conocidos la altura y el tiempo de caida'''\n",
    "    return (2*h) / (t**2)\n",
    "\n",
    "# AÑADIMOS LA GRAVEDAD CLACULADA AL DATAFRAME\n",
    "datos_g = datos.copy()  # hacemos una copia del dataframe\n",
    "g_calculada=[]  # columna que vamos a añadir al dataframe\n",
    "\n",
    "for i in range(100):\n",
    "    g_calculada.append(calcular_gravedad(datos.Altura[i], datos.Tiempo[i]))  # añadimos la gravedad calculada a la lista g_calculado\n",
    "\n",
    "# añadimos la nueva columna\n",
    "datos_g['g_calculada'] = g_calculada\n",
    "datos_g.head(100)"
   ]
  },
  {
   "attachments": {},
   "cell_type": "markdown",
   "metadata": {},
   "source": [
    "## Predecir el planeta"
   ]
  },
  {
   "cell_type": "code",
   "execution_count": 11,
   "metadata": {},
   "outputs": [],
   "source": [
    "# Creamos un diccionario con los planetas y sus respectivas gravedades\n",
    "gravedad_planetas = { 'Tierra': 9.8, 'Marte': 3.7, 'Júpiter': 24.8, 'Saturno': 9.0, 'Urano': 8.7, 'Neptuno': 11.0}\n",
    "\n",
    "def posible_planeta(g_calc):\n",
    "    ''''Funcion que te dice, según la gravedad que le pases, en qué planeta estás'''\n",
    "    planetas = {} # creamos un diccionario dif:planeta\n",
    "    for g in gravedad_planetas.values():  # para cada gravedad de los planetas\n",
    "        dif = abs(g_calc - g)  # la diferencia entre g_calc y la gravedad real del planeta\n",
    "        #  asociamos a cada diferencia el planeta correspondiente\n",
    "        planetas[dif] = list(gravedad_planetas.keys())[list(gravedad_planetas.values()).index(g)]\n",
    "\n",
    "     # nos devuelve el planeta con la menor diferencia del calculo de gravedad\n",
    "    return planetas[min(planetas.keys())] "
   ]
  },
  {
   "cell_type": "code",
   "execution_count": 10,
   "metadata": {},
   "outputs": [
    {
     "data": {
      "text/html": [
       "<div>\n",
       "<style scoped>\n",
       "    .dataframe tbody tr th:only-of-type {\n",
       "        vertical-align: middle;\n",
       "    }\n",
       "\n",
       "    .dataframe tbody tr th {\n",
       "        vertical-align: top;\n",
       "    }\n",
       "\n",
       "    .dataframe thead th {\n",
       "        text-align: right;\n",
       "    }\n",
       "</style>\n",
       "<table border=\"1\" class=\"dataframe\">\n",
       "  <thead>\n",
       "    <tr style=\"text-align: right;\">\n",
       "      <th></th>\n",
       "      <th>Altura</th>\n",
       "      <th>Tiempo</th>\n",
       "      <th>g_calculada</th>\n",
       "    </tr>\n",
       "  </thead>\n",
       "  <tbody>\n",
       "    <tr>\n",
       "      <th>count</th>\n",
       "      <td>100.000000</td>\n",
       "      <td>100.000000</td>\n",
       "      <td>100.000000</td>\n",
       "    </tr>\n",
       "    <tr>\n",
       "      <th>mean</th>\n",
       "      <td>1.475809</td>\n",
       "      <td>0.553402</td>\n",
       "      <td>9.612507</td>\n",
       "    </tr>\n",
       "    <tr>\n",
       "      <th>std</th>\n",
       "      <td>0.283195</td>\n",
       "      <td>0.062390</td>\n",
       "      <td>0.785133</td>\n",
       "    </tr>\n",
       "    <tr>\n",
       "      <th>min</th>\n",
       "      <td>1.008984</td>\n",
       "      <td>0.442950</td>\n",
       "      <td>7.775296</td>\n",
       "    </tr>\n",
       "    <tr>\n",
       "      <th>25%</th>\n",
       "      <td>1.223500</td>\n",
       "      <td>0.500360</td>\n",
       "      <td>8.916149</td>\n",
       "    </tr>\n",
       "    <tr>\n",
       "      <th>50%</th>\n",
       "      <td>1.482601</td>\n",
       "      <td>0.549808</td>\n",
       "      <td>9.635355</td>\n",
       "    </tr>\n",
       "    <tr>\n",
       "      <th>75%</th>\n",
       "      <td>1.708336</td>\n",
       "      <td>0.607277</td>\n",
       "      <td>10.088991</td>\n",
       "    </tr>\n",
       "    <tr>\n",
       "      <th>max</th>\n",
       "      <td>1.993528</td>\n",
       "      <td>0.679223</td>\n",
       "      <td>11.495399</td>\n",
       "    </tr>\n",
       "  </tbody>\n",
       "</table>\n",
       "</div>"
      ],
      "text/plain": [
       "           Altura      Tiempo  g_calculada\n",
       "count  100.000000  100.000000   100.000000\n",
       "mean     1.475809    0.553402     9.612507\n",
       "std      0.283195    0.062390     0.785133\n",
       "min      1.008984    0.442950     7.775296\n",
       "25%      1.223500    0.500360     8.916149\n",
       "50%      1.482601    0.549808     9.635355\n",
       "75%      1.708336    0.607277    10.088991\n",
       "max      1.993528    0.679223    11.495399"
      ]
     },
     "execution_count": 10,
     "metadata": {},
     "output_type": "execute_result"
    }
   ],
   "source": [
    "datos_g.describe()"
   ]
  },
  {
   "cell_type": "code",
   "execution_count": 13,
   "metadata": {},
   "outputs": [
    {
     "name": "stdout",
     "output_type": "stream",
     "text": [
      "La gravedad media de los datos es: 9.61, por lo que estaremos cerca de Tierra.\n"
     ]
    }
   ],
   "source": [
    "g_media = round(datos_g.g_calculada.mean(), 2)\n",
    "print(f'La gravedad media de los datos es: {g_media}, por lo que estaremos cerca de {posible_planeta(g_media)}.')"
   ]
  }
 ],
 "metadata": {
  "kernelspec": {
   "display_name": "my-env",
   "language": "python",
   "name": "python3"
  },
  "language_info": {
   "codemirror_mode": {
    "name": "ipython",
    "version": 3
   },
   "file_extension": ".py",
   "mimetype": "text/x-python",
   "name": "python",
   "nbconvert_exporter": "python",
   "pygments_lexer": "ipython3",
   "version": "3.11.3"
  },
  "orig_nbformat": 4
 },
 "nbformat": 4,
 "nbformat_minor": 2
}
