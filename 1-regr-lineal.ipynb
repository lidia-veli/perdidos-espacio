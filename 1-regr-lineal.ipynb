{
 "cells": [
  {
   "attachments": {},
   "cell_type": "markdown",
   "metadata": {},
   "source": [
    "# Enunciado\n",
    "\n",
    "Los tripulantes de una nave espacial se han perdido en esl espacio. Para saber dónde se encuentran, a la tripulación se le ocurre determinar experimentalmente el valor de la aceleración de la gravedad ($g$), y comparar los resultados con las gravedades conocidas de los planetas del Sistema Solar. \n",
    "\n",
    "![Gravedad Planetas Sistema Solar](\\data\\gravedades-sist-solar.png)\n",
    "\n",
    "Para calcularla, realizan un experimento de caída libre, que consiste en lo siguiente: dejar caer un pequeño objeto con velocidad inicial nula desde una altura determinada ($h$) y cronometrar el tiempo que tarda en recorrerla ($t$).  \n",
    "La aceleración de la gravedad se calcula con la fórmula: $h = \\frac{1}{2} g t^2$.  \n",
    "  \n",
    "- Con una altura $h = 1.00 m$ cronometran $t = 0.46 s$\n",
    "- Con una altura $h = 2.00 m$ cronometran $t = 0.66 s$\n",
    "  \n",
    "***¿En qué planeta se encuentran?*** "
   ]
  },
  {
   "attachments": {},
   "cell_type": "markdown",
   "metadata": {},
   "source": [
    "# Planteamiento\n",
    "No tenemos información suficiente como para poder determinar con certeza en qué planeta se encuentran. Por lo tanto, lo primero que haremos, será simular una base de datos de alturas y tiempos del experimento de caída libre realizado por los astronautas. De esta forma, tendremos datos suficientes como para poder realizar un análisis de los mismos y poder determinar en qué planeta se encuentran."
   ]
  },
  {
   "attachments": {},
   "cell_type": "markdown",
   "metadata": {},
   "source": [
    "# Resolución"
   ]
  },
  {
   "attachments": {},
   "cell_type": "markdown",
   "metadata": {},
   "source": [
    "## Importaciones"
   ]
  },
  {
   "cell_type": "code",
   "execution_count": 1,
   "metadata": {},
   "outputs": [
    {
     "name": "stdout",
     "output_type": "stream",
     "text": [
      "Done\n"
     ]
    }
   ],
   "source": [
    "# Importaciones necesarias\n",
    "import random\n",
    "import numpy as np\n",
    "import pandas as pd\n",
    "import matplotlib.pyplot as plt\n",
    "from faker import Faker\n",
    "\n",
    "# Inicializamos Faker\n",
    "faker = Faker()\n",
    "\n",
    "print('Done')"
   ]
  },
  {
   "attachments": {},
   "cell_type": "markdown",
   "metadata": {},
   "source": [
    "## Crear el dataset"
   ]
  },
  {
   "attachments": {},
   "cell_type": "markdown",
   "metadata": {},
   "source": [
    "Con los datos proporcionados\n",
    "- h = 1.00, t = 0.46 s\n",
    "- h = 2.00, t = 0.66 s  \n",
    "  \n",
    "vamos a crear una recta, que usaremos como recta de regresión, a partir de la cual vamos a generar datos aleatorios que simulen los datos que se obtendrían en el experimento de caída libre.  \n",
    "  \n",
    "La variable independiente será la altura ($h$) y la variable dependiente será el tiempo ($t$)."
   ]
  },
  {
   "cell_type": "code",
   "execution_count": 2,
   "metadata": {},
   "outputs": [
    {
     "name": "stdout",
     "output_type": "stream",
     "text": [
      "La ecuación de la recta es: y = 0.2x + 0.26\n"
     ]
    }
   ],
   "source": [
    "def ec_recta(p1, p2):\n",
    "    x1, y1 = p1\n",
    "    x2, y2 = p2\n",
    "    m = (y2 - y1) / (x2 - x1)\n",
    "    b = y1 - m*x1\n",
    "    return m, b\n",
    "\n",
    "r = ec_recta( (1.00, 0.46), (2.00, 0.66))\n",
    "print(f\"La ecuación de la recta es: y = {round(r[0], 2)}x + {round(r[1], 2)}\")"
   ]
  },
  {
   "cell_type": "code",
   "execution_count": 3,
   "metadata": {},
   "outputs": [
    {
     "data": {
      "image/png": "[encoded data removed]",
      "text/plain": [
       "<Figure size 640x480 with 1 Axes>"
      ]
     },
     "metadata": {},
     "output_type": "display_data"
    }
   ],
   "source": [
    "# Recta de regresión\n",
    "def recta(x):\n",
    "    return 0.2*x + 0.26\n",
    "\n",
    "x = np.linspace(1, 2, 100)\n",
    "y = recta(x)\n",
    "plt.plot(x, y, color='magenta', label='Recta de regresión')\n",
    "\n",
    "plt.xlabel('Altura (m)')\n",
    "plt.ylabel('Tiempo (s)')\n",
    "plt.ylim(0, 1.5)  # para reducir la escala de la gráfica\n",
    "plt.show()"
   ]
  },
  {
   "attachments": {},
   "cell_type": "markdown",
   "metadata": {},
   "source": [
    "Generamos 100 datos aleatorios para cada variable, con una distribución normal, con una media y desviación típica de tal forma que se ajusten a la recta de regresión que hemos creado."
   ]
  },
  {
   "cell_type": "code",
   "execution_count": 4,
   "metadata": {},
   "outputs": [
    {
     "data": {
      "text/html": [
       "<div>\n",
       "<style scoped>\n",
       "    .dataframe tbody tr th:only-of-type {\n",
       "        vertical-align: middle;\n",
       "    }\n",
       "\n",
       "    .dataframe tbody tr th {\n",
       "        vertical-align: top;\n",
       "    }\n",
       "\n",
       "    .dataframe thead th {\n",
       "        text-align: right;\n",
       "    }\n",
       "</style>\n",
       "<table border=\"1\" class=\"dataframe\">\n",
       "  <thead>\n",
       "    <tr style=\"text-align: right;\">\n",
       "      <th></th>\n",
       "      <th>Altura</th>\n",
       "      <th>Tiempo</th>\n",
       "    </tr>\n",
       "  </thead>\n",
       "  <tbody>\n",
       "    <tr>\n",
       "      <th>0</th>\n",
       "      <td>1.777397</td>\n",
       "      <td>0.627238</td>\n",
       "    </tr>\n",
       "    <tr>\n",
       "      <th>1</th>\n",
       "      <td>1.589083</td>\n",
       "      <td>0.576381</td>\n",
       "    </tr>\n",
       "    <tr>\n",
       "      <th>2</th>\n",
       "      <td>1.052941</td>\n",
       "      <td>0.470998</td>\n",
       "    </tr>\n",
       "    <tr>\n",
       "      <th>3</th>\n",
       "      <td>1.680630</td>\n",
       "      <td>0.582015</td>\n",
       "    </tr>\n",
       "    <tr>\n",
       "      <th>4</th>\n",
       "      <td>1.204956</td>\n",
       "      <td>0.485500</td>\n",
       "    </tr>\n",
       "    <tr>\n",
       "      <th>...</th>\n",
       "      <td>...</td>\n",
       "      <td>...</td>\n",
       "    </tr>\n",
       "    <tr>\n",
       "      <th>95</th>\n",
       "      <td>1.393441</td>\n",
       "      <td>0.523178</td>\n",
       "    </tr>\n",
       "    <tr>\n",
       "      <th>96</th>\n",
       "      <td>1.499409</td>\n",
       "      <td>0.594065</td>\n",
       "    </tr>\n",
       "    <tr>\n",
       "      <th>97</th>\n",
       "      <td>1.335665</td>\n",
       "      <td>0.505813</td>\n",
       "    </tr>\n",
       "    <tr>\n",
       "      <th>98</th>\n",
       "      <td>1.158588</td>\n",
       "      <td>0.508870</td>\n",
       "    </tr>\n",
       "    <tr>\n",
       "      <th>99</th>\n",
       "      <td>1.325184</td>\n",
       "      <td>0.554920</td>\n",
       "    </tr>\n",
       "  </tbody>\n",
       "</table>\n",
       "<p>100 rows × 2 columns</p>\n",
       "</div>"
      ],
      "text/plain": [
       "      Altura    Tiempo\n",
       "0   1.777397  0.627238\n",
       "1   1.589083  0.576381\n",
       "2   1.052941  0.470998\n",
       "3   1.680630  0.582015\n",
       "4   1.204956  0.485500\n",
       "..       ...       ...\n",
       "95  1.393441  0.523178\n",
       "96  1.499409  0.594065\n",
       "97  1.335665  0.505813\n",
       "98  1.158588  0.508870\n",
       "99  1.325184  0.554920\n",
       "\n",
       "[100 rows x 2 columns]"
      ]
     },
     "execution_count": 4,
     "metadata": {},
     "output_type": "execute_result"
    }
   ],
   "source": [
    "# Datos aleatorios de la Altura\n",
    "x_values = [faker.random.uniform(1.00, 2.00) for _ in range(100)]\n",
    "\n",
    "# Usando la recta de regresion, calculamos los valores del Tiempo\n",
    "y_values = [recta(v) for v in x_values]\n",
    "\n",
    "#y les añadimos \"ruido\", para que diverjan un poco de la recta\n",
    "y_values = [y + random.gauss(0, 0.02) for y in y_values]\n",
    "                                # desviacion: cuando más cerca de 0 esté el valor, más se aproximan los puntos a la recta\n",
    "\n",
    "\n",
    "# Creamos el DataFrame\n",
    "datos = pd.DataFrame({'Altura': x_values,'Tiempo': y_values})\n",
    "datos.head(100)"
   ]
  },
  {
   "cell_type": "code",
   "execution_count": 5,
   "metadata": {},
   "outputs": [
    {
     "data": {
      "image/png": "[encoded data removed]",
      "text/plain": [
       "<Figure size 640x480 with 1 Axes>"
      ]
     },
     "metadata": {},
     "output_type": "display_data"
    }
   ],
   "source": [
    "# Graficamos nuestra recta (que hemos usado para generar los datos)\n",
    "plt.plot(x, y, color='magenta', label='Recta', linewidth=2) # nuestra recta\n",
    "\n",
    "# Graficamos los datos\n",
    "plt.scatter(x_values, y_values)  # graficar los datos\n",
    "# y su recta de regresion  (que será muy parecida a la que hemos usado para generarlos) \n",
    "m, b = np.polyfit(x_values, y_values, 1)\n",
    "plt.plot(x_values, m*np.array(x_values) + b, color='cyan', label='Recta de regresión')\n",
    "\n",
    "# Nombrar los ejes\n",
    "plt.xlabel('Altura (m)')\n",
    "plt.ylabel('Tiempo (s)')\n",
    "plt.ylim(0, 1.5)\n",
    "plt.show()"
   ]
  },
  {
   "attachments": {},
   "cell_type": "markdown",
   "metadata": {},
   "source": [
    "## Calcular la aceleración de la gravedad\n",
    "Obtenemos ahora, usando la fórmula física, la aceleración de la gravedad ($g$) para cada uno de los datos generados."
   ]
  },
  {
   "cell_type": "code",
   "execution_count": 6,
   "metadata": {},
   "outputs": [
    {
     "data": {
      "text/html": [
       "<div>\n",
       "<style scoped>\n",
       "    .dataframe tbody tr th:only-of-type {\n",
       "        vertical-align: middle;\n",
       "    }\n",
       "\n",
       "    .dataframe tbody tr th {\n",
       "        vertical-align: top;\n",
       "    }\n",
       "\n",
       "    .dataframe thead th {\n",
       "        text-align: right;\n",
       "    }\n",
       "</style>\n",
       "<table border=\"1\" class=\"dataframe\">\n",
       "  <thead>\n",
       "    <tr style=\"text-align: right;\">\n",
       "      <th></th>\n",
       "      <th>Altura</th>\n",
       "      <th>Tiempo</th>\n",
       "      <th>g_calculada</th>\n",
       "    </tr>\n",
       "  </thead>\n",
       "  <tbody>\n",
       "    <tr>\n",
       "      <th>0</th>\n",
       "      <td>1.777397</td>\n",
       "      <td>0.627238</td>\n",
       "      <td>9.035442</td>\n",
       "    </tr>\n",
       "    <tr>\n",
       "      <th>1</th>\n",
       "      <td>1.589083</td>\n",
       "      <td>0.576381</td>\n",
       "      <td>9.566601</td>\n",
       "    </tr>\n",
       "    <tr>\n",
       "      <th>2</th>\n",
       "      <td>1.052941</td>\n",
       "      <td>0.470998</td>\n",
       "      <td>9.492834</td>\n",
       "    </tr>\n",
       "    <tr>\n",
       "      <th>3</th>\n",
       "      <td>1.680630</td>\n",
       "      <td>0.582015</td>\n",
       "      <td>9.922780</td>\n",
       "    </tr>\n",
       "    <tr>\n",
       "      <th>4</th>\n",
       "      <td>1.204956</td>\n",
       "      <td>0.485500</td>\n",
       "      <td>10.224034</td>\n",
       "    </tr>\n",
       "    <tr>\n",
       "      <th>...</th>\n",
       "      <td>...</td>\n",
       "      <td>...</td>\n",
       "      <td>...</td>\n",
       "    </tr>\n",
       "    <tr>\n",
       "      <th>95</th>\n",
       "      <td>1.393441</td>\n",
       "      <td>0.523178</td>\n",
       "      <td>10.181686</td>\n",
       "    </tr>\n",
       "    <tr>\n",
       "      <th>96</th>\n",
       "      <td>1.499409</td>\n",
       "      <td>0.594065</td>\n",
       "      <td>8.497315</td>\n",
       "    </tr>\n",
       "    <tr>\n",
       "      <th>97</th>\n",
       "      <td>1.335665</td>\n",
       "      <td>0.505813</td>\n",
       "      <td>10.441139</td>\n",
       "    </tr>\n",
       "    <tr>\n",
       "      <th>98</th>\n",
       "      <td>1.158588</td>\n",
       "      <td>0.508870</td>\n",
       "      <td>8.948407</td>\n",
       "    </tr>\n",
       "    <tr>\n",
       "      <th>99</th>\n",
       "      <td>1.325184</td>\n",
       "      <td>0.554920</td>\n",
       "      <td>8.606874</td>\n",
       "    </tr>\n",
       "  </tbody>\n",
       "</table>\n",
       "<p>100 rows × 3 columns</p>\n",
       "</div>"
      ],
      "text/plain": [
       "      Altura    Tiempo  g_calculada\n",
       "0   1.777397  0.627238     9.035442\n",
       "1   1.589083  0.576381     9.566601\n",
       "2   1.052941  0.470998     9.492834\n",
       "3   1.680630  0.582015     9.922780\n",
       "4   1.204956  0.485500    10.224034\n",
       "..       ...       ...          ...\n",
       "95  1.393441  0.523178    10.181686\n",
       "96  1.499409  0.594065     8.497315\n",
       "97  1.335665  0.505813    10.441139\n",
       "98  1.158588  0.508870     8.948407\n",
       "99  1.325184  0.554920     8.606874\n",
       "\n",
       "[100 rows x 3 columns]"
      ]
     },
     "execution_count": 6,
     "metadata": {},
     "output_type": "execute_result"
    }
   ],
   "source": [
    "def calcular_gravedad(h, t):\n",
    "    '''Funcion que calcula la gravedad, conocidos la altura y el tiempo de caida'''\n",
    "    return (2*h) / (t**2)\n",
    "\n",
    "# AÑADIMOS LA GRAVEDAD CLACULADA AL DATAFRAME\n",
    "datos_g = datos.copy()  # hacemos una copia del dataframe\n",
    "g_calculada=[]  # columna que vamos a añadir al dataframe\n",
    "\n",
    "for i in range(100):\n",
    "    g_calculada.append(calcular_gravedad(datos.Altura[i], datos.Tiempo[i]))  # añadimos la gravedad calculada a la lista g_calculado\n",
    "\n",
    "# añadimos la nueva columna\n",
    "datos_g['g_calculada'] = g_calculada\n",
    "datos_g.head(100)"
   ]
  },
  {
   "cell_type": "code",
   "execution_count": 7,
   "metadata": {},
   "outputs": [
    {
     "data": {
      "text/plain": [
       "9.183935865681072"
      ]
     },
     "execution_count": 7,
     "metadata": {},
     "output_type": "execute_result"
    }
   ],
   "source": [
    "calcular_gravedad(1, 0.46666)"
   ]
  },
  {
   "cell_type": "code",
   "execution_count": 8,
   "metadata": {},
   "outputs": [
    {
     "data": {
      "text/plain": [
       "9.001800270036005"
      ]
     },
     "execution_count": 8,
     "metadata": {},
     "output_type": "execute_result"
    }
   ],
   "source": [
    "calcular_gravedad(2, 0.6666)"
   ]
  },
  {
   "cell_type": "code",
   "execution_count": 9,
   "metadata": {},
   "outputs": [
    {
     "data": {
      "text/html": [
       "<div>\n",
       "<style scoped>\n",
       "    .dataframe tbody tr th:only-of-type {\n",
       "        vertical-align: middle;\n",
       "    }\n",
       "\n",
       "    .dataframe tbody tr th {\n",
       "        vertical-align: top;\n",
       "    }\n",
       "\n",
       "    .dataframe thead th {\n",
       "        text-align: right;\n",
       "    }\n",
       "</style>\n",
       "<table border=\"1\" class=\"dataframe\">\n",
       "  <thead>\n",
       "    <tr style=\"text-align: right;\">\n",
       "      <th></th>\n",
       "      <th>Altura</th>\n",
       "      <th>Tiempo</th>\n",
       "      <th>g_calculada</th>\n",
       "    </tr>\n",
       "  </thead>\n",
       "  <tbody>\n",
       "    <tr>\n",
       "      <th>count</th>\n",
       "      <td>100.000000</td>\n",
       "      <td>100.000000</td>\n",
       "      <td>100.000000</td>\n",
       "    </tr>\n",
       "    <tr>\n",
       "      <th>mean</th>\n",
       "      <td>1.507374</td>\n",
       "      <td>0.562743</td>\n",
       "      <td>9.502423</td>\n",
       "    </tr>\n",
       "    <tr>\n",
       "      <th>std</th>\n",
       "      <td>0.285938</td>\n",
       "      <td>0.065124</td>\n",
       "      <td>0.777456</td>\n",
       "    </tr>\n",
       "    <tr>\n",
       "      <th>min</th>\n",
       "      <td>1.016562</td>\n",
       "      <td>0.411914</td>\n",
       "      <td>8.037652</td>\n",
       "    </tr>\n",
       "    <tr>\n",
       "      <th>25%</th>\n",
       "      <td>1.243010</td>\n",
       "      <td>0.508538</td>\n",
       "      <td>8.947221</td>\n",
       "    </tr>\n",
       "    <tr>\n",
       "      <th>50%</th>\n",
       "      <td>1.535954</td>\n",
       "      <td>0.568094</td>\n",
       "      <td>9.434982</td>\n",
       "    </tr>\n",
       "    <tr>\n",
       "      <th>75%</th>\n",
       "      <td>1.727886</td>\n",
       "      <td>0.608881</td>\n",
       "      <td>10.045487</td>\n",
       "    </tr>\n",
       "    <tr>\n",
       "      <th>max</th>\n",
       "      <td>1.984216</td>\n",
       "      <td>0.676458</td>\n",
       "      <td>12.123298</td>\n",
       "    </tr>\n",
       "  </tbody>\n",
       "</table>\n",
       "</div>"
      ],
      "text/plain": [
       "           Altura      Tiempo  g_calculada\n",
       "count  100.000000  100.000000   100.000000\n",
       "mean     1.507374    0.562743     9.502423\n",
       "std      0.285938    0.065124     0.777456\n",
       "min      1.016562    0.411914     8.037652\n",
       "25%      1.243010    0.508538     8.947221\n",
       "50%      1.535954    0.568094     9.434982\n",
       "75%      1.727886    0.608881    10.045487\n",
       "max      1.984216    0.676458    12.123298"
      ]
     },
     "execution_count": 9,
     "metadata": {},
     "output_type": "execute_result"
    }
   ],
   "source": [
    "datos_g.describe()"
   ]
  },
  {
   "attachments": {},
   "cell_type": "markdown",
   "metadata": {},
   "source": [
    "La media de los valores de la gravedad calculada es 9.5 $\\frac{m}{s^2}$, que es cercano al valor de la gravedad de la Tierra."
   ]
  },
  {
   "attachments": {},
   "cell_type": "markdown",
   "metadata": {},
   "source": [
    "## Predecir el planeta"
   ]
  },
  {
   "cell_type": "code",
   "execution_count": 10,
   "metadata": {},
   "outputs": [
    {
     "data": {
      "text/html": [
       "<div>\n",
       "<style scoped>\n",
       "    .dataframe tbody tr th:only-of-type {\n",
       "        vertical-align: middle;\n",
       "    }\n",
       "\n",
       "    .dataframe tbody tr th {\n",
       "        vertical-align: top;\n",
       "    }\n",
       "\n",
       "    .dataframe thead th {\n",
       "        text-align: right;\n",
       "    }\n",
       "</style>\n",
       "<table border=\"1\" class=\"dataframe\">\n",
       "  <thead>\n",
       "    <tr style=\"text-align: right;\">\n",
       "      <th></th>\n",
       "      <th>Altura</th>\n",
       "      <th>Tiempo</th>\n",
       "      <th>g_calculada</th>\n",
       "      <th>planeta_posible</th>\n",
       "    </tr>\n",
       "  </thead>\n",
       "  <tbody>\n",
       "    <tr>\n",
       "      <th>0</th>\n",
       "      <td>1.777397</td>\n",
       "      <td>0.627238</td>\n",
       "      <td>9.035442</td>\n",
       "      <td>Saturno</td>\n",
       "    </tr>\n",
       "    <tr>\n",
       "      <th>1</th>\n",
       "      <td>1.589083</td>\n",
       "      <td>0.576381</td>\n",
       "      <td>9.566601</td>\n",
       "      <td>Tierra</td>\n",
       "    </tr>\n",
       "    <tr>\n",
       "      <th>2</th>\n",
       "      <td>1.052941</td>\n",
       "      <td>0.470998</td>\n",
       "      <td>9.492834</td>\n",
       "      <td>Tierra</td>\n",
       "    </tr>\n",
       "    <tr>\n",
       "      <th>3</th>\n",
       "      <td>1.680630</td>\n",
       "      <td>0.582015</td>\n",
       "      <td>9.922780</td>\n",
       "      <td>Tierra</td>\n",
       "    </tr>\n",
       "    <tr>\n",
       "      <th>4</th>\n",
       "      <td>1.204956</td>\n",
       "      <td>0.485500</td>\n",
       "      <td>10.224034</td>\n",
       "      <td>Tierra</td>\n",
       "    </tr>\n",
       "    <tr>\n",
       "      <th>...</th>\n",
       "      <td>...</td>\n",
       "      <td>...</td>\n",
       "      <td>...</td>\n",
       "      <td>...</td>\n",
       "    </tr>\n",
       "    <tr>\n",
       "      <th>95</th>\n",
       "      <td>1.393441</td>\n",
       "      <td>0.523178</td>\n",
       "      <td>10.181686</td>\n",
       "      <td>Tierra</td>\n",
       "    </tr>\n",
       "    <tr>\n",
       "      <th>96</th>\n",
       "      <td>1.499409</td>\n",
       "      <td>0.594065</td>\n",
       "      <td>8.497315</td>\n",
       "      <td>Urano</td>\n",
       "    </tr>\n",
       "    <tr>\n",
       "      <th>97</th>\n",
       "      <td>1.335665</td>\n",
       "      <td>0.505813</td>\n",
       "      <td>10.441139</td>\n",
       "      <td>Neptuno</td>\n",
       "    </tr>\n",
       "    <tr>\n",
       "      <th>98</th>\n",
       "      <td>1.158588</td>\n",
       "      <td>0.508870</td>\n",
       "      <td>8.948407</td>\n",
       "      <td>Saturno</td>\n",
       "    </tr>\n",
       "    <tr>\n",
       "      <th>99</th>\n",
       "      <td>1.325184</td>\n",
       "      <td>0.554920</td>\n",
       "      <td>8.606874</td>\n",
       "      <td>Urano</td>\n",
       "    </tr>\n",
       "  </tbody>\n",
       "</table>\n",
       "<p>100 rows × 4 columns</p>\n",
       "</div>"
      ],
      "text/plain": [
       "      Altura    Tiempo  g_calculada planeta_posible\n",
       "0   1.777397  0.627238     9.035442         Saturno\n",
       "1   1.589083  0.576381     9.566601          Tierra\n",
       "2   1.052941  0.470998     9.492834          Tierra\n",
       "3   1.680630  0.582015     9.922780          Tierra\n",
       "4   1.204956  0.485500    10.224034          Tierra\n",
       "..       ...       ...          ...             ...\n",
       "95  1.393441  0.523178    10.181686          Tierra\n",
       "96  1.499409  0.594065     8.497315           Urano\n",
       "97  1.335665  0.505813    10.441139         Neptuno\n",
       "98  1.158588  0.508870     8.948407         Saturno\n",
       "99  1.325184  0.554920     8.606874           Urano\n",
       "\n",
       "[100 rows x 4 columns]"
      ]
     },
     "execution_count": 10,
     "metadata": {},
     "output_type": "execute_result"
    }
   ],
   "source": [
    "# Creamos un diccionario con los planetas y sus respectivas gravedades\n",
    "gravedad_planetas = { 'Tierra': 9.8, 'Marte': 3.7, 'Júpiter': 24.8, 'Saturno': 9.0, 'Urano': 8.7, 'Neptuno': 11.0}\n",
    "\n",
    "def posible_planeta(g_calc):\n",
    "    ''''Funcion que te dice, según la gravedad que le pases, en qué planeta estás'''\n",
    "    planetas = {} # creamos un diccionario dif:planeta\n",
    "    for g in gravedad_planetas.values():  # para cada gravedad de los planetas\n",
    "        dif = abs(g_calc - g)  # la diferencia entre g_calc y la gravedad real del planeta\n",
    "        #  asociamos a cada diferencia el planeta correspondiente\n",
    "        planetas[dif] = list(gravedad_planetas.keys())[list(gravedad_planetas.values()).index(g)]\n",
    "\n",
    "     # nos devuelve el planeta con la menor diferencia del calculo de gravedad\n",
    "    return planetas[min(planetas.keys())] \n",
    "\n",
    "\n",
    "# AÑADIMOS EL PLANETA POSIBLE AL DATAFRAME\n",
    "planetas_posibles = []\n",
    "for i in range(100):\n",
    "    b = posible_planeta(datos_g.g_calculada[i])\n",
    "    planetas_posibles.append(b)\n",
    "\n",
    "datos_g['planeta_posible'] = planetas_posibles\n",
    "datos_g.head(100)"
   ]
  },
  {
   "cell_type": "code",
   "execution_count": 11,
   "metadata": {},
   "outputs": [
    {
     "data": {
      "text/plain": [
       "Tierra     38\n",
       "Saturno    29\n",
       "Urano      21\n",
       "Neptuno    12\n",
       "Name: planeta_posible, dtype: int64"
      ]
     },
     "execution_count": 11,
     "metadata": {},
     "output_type": "execute_result"
    }
   ],
   "source": [
    "datos_g.planeta_posible.value_counts()"
   ]
  }
 ],
 "metadata": {
  "kernelspec": {
   "display_name": "my-env",
   "language": "python",
   "name": "python3"
  },
  "language_info": {
   "codemirror_mode": {
    "name": "ipython",
    "version": 3
   },
   "file_extension": ".py",
   "mimetype": "text/x-python",
   "name": "python",
   "nbconvert_exporter": "python",
   "pygments_lexer": "ipython3",
   "version": "3.11.3"
  },
  "orig_nbformat": 4
 },
 "nbformat": 4,
 "nbformat_minor": 2
}
